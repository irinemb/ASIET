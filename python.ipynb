{
  "nbformat": 4,
  "nbformat_minor": 0,
  "metadata": {
    "colab": {
      "provenance": [],
      "authorship_tag": "ABX9TyOJo7JUpdcY/48iDfukhc2t",
      "include_colab_link": true
    },
    "kernelspec": {
      "name": "python3",
      "display_name": "Python 3"
    },
    "language_info": {
      "name": "python"
    }
  },
  "cells": [
    {
      "cell_type": "markdown",
      "metadata": {
        "id": "view-in-github",
        "colab_type": "text"
      },
      "source": [
        "<a href=\"https://colab.research.google.com/github/irinemb/ASIET/blob/main/python.ipynb\" target=\"_parent\"><img src=\"https://colab.research.google.com/assets/colab-badge.svg\" alt=\"Open In Colab\"/></a>"
      ]
    },
    {
      "cell_type": "code",
      "execution_count": null,
      "metadata": {
        "colab": {
          "base_uri": "https://localhost:8080/"
        },
        "id": "GOxtJAdWF5Y3",
        "outputId": "1831ba3a-0223-40bb-9ca1-9f9baedda524"
      },
      "outputs": [
        {
          "output_type": "stream",
          "name": "stdout",
          "text": [
            "hyy\n"
          ]
        }
      ],
      "source": [
        "print(\"hyy\")"
      ]
    },
    {
      "cell_type": "code",
      "source": [
        "#name and age\n",
        "a=input(\"Enter your name \")\n",
        "b=int(input(\"enter your age \"))\n"
      ],
      "metadata": {
        "colab": {
          "base_uri": "https://localhost:8080/"
        },
        "id": "yxUSZ3EIGgh1",
        "outputId": "1c0ef061-e76e-4cba-abf1-401999d6f88d"
      },
      "execution_count": null,
      "outputs": [
        {
          "name": "stdout",
          "output_type": "stream",
          "text": [
            "Enter your name irine\n",
            "enter your age 20\n"
          ]
        }
      ]
    },
    {
      "cell_type": "code",
      "source": [
        "#swapping\n",
        "a=int(input(\"enter a number\"))\n",
        "b=int(input(\"Enter a number\"))\n",
        "a,b=b,a\n",
        "print(f\"a:{a} \\nb:{b}\")"
      ],
      "metadata": {
        "colab": {
          "base_uri": "https://localhost:8080/"
        },
        "id": "DzfMhN3VHgAU",
        "outputId": "fe09aef2-9065-4b6a-9f42-952fc4485ed1"
      },
      "execution_count": null,
      "outputs": [
        {
          "output_type": "stream",
          "name": "stdout",
          "text": [
            "enter a number2\n",
            "Enter a number10\n",
            "a:10 \n",
            "b:2\n"
          ]
        }
      ]
    },
    {
      "cell_type": "code",
      "source": [
        "num=int(input(\"enter a number \"))\n",
        "print(f\"String value is {str(num)}\")"
      ],
      "metadata": {
        "colab": {
          "base_uri": "https://localhost:8080/"
        },
        "id": "RFFZRamXJWZs",
        "outputId": "48039862-1a2d-4327-966a-eb11a4a1bbfe"
      },
      "execution_count": null,
      "outputs": [
        {
          "output_type": "stream",
          "name": "stdout",
          "text": [
            "enter a number 29\n",
            "String value is 29\n"
          ]
        }
      ]
    },
    {
      "cell_type": "code",
      "source": [
        "#area of the circle\n",
        "r=float(input(\"enter the radius\"))\n",
        "print(\"Area of the circle is :\",3.14*r*r)"
      ],
      "metadata": {
        "colab": {
          "base_uri": "https://localhost:8080/"
        },
        "id": "qqpJ0mBvKZGT",
        "outputId": "b6c95979-ded5-49ff-8d56-87ab857dfd15"
      },
      "execution_count": null,
      "outputs": [
        {
          "output_type": "stream",
          "name": "stdout",
          "text": [
            "enter the radius10\n",
            "Area of the circle is : 314.0\n"
          ]
        }
      ]
    },
    {
      "cell_type": "code",
      "source": [
        "#convert celsius to farenheit\n",
        "c = float(input(\"enter the temperature in celsius :\"))\n",
        "print(\"farenheit is \",(c*9/5)+32)"
      ],
      "metadata": {
        "colab": {
          "base_uri": "https://localhost:8080/"
        },
        "id": "FDIHuOKCMQHA",
        "outputId": "139db3e1-6f8a-4e66-fc78-8c8efaaf48e2"
      },
      "execution_count": null,
      "outputs": [
        {
          "output_type": "stream",
          "name": "stdout",
          "text": [
            "enter the temperature in celsius :100\n",
            "farenheit is  212.0\n"
          ]
        }
      ]
    },
    {
      "cell_type": "code",
      "source": [
        "#sum of 2 numbers\n",
        "a=int(input(\"enter a number \"))\n",
        "b=int(input(\"enter a number \"))\n",
        "print(\"the sum is \",a+b)"
      ],
      "metadata": {
        "colab": {
          "base_uri": "https://localhost:8080/"
        },
        "id": "pCNSUt6MNIGI",
        "outputId": "e3e69032-89ee-467c-ace0-f7b2d8cd3d40"
      },
      "execution_count": null,
      "outputs": [
        {
          "output_type": "stream",
          "name": "stdout",
          "text": [
            "enter a number 2\n",
            "enter a number 5\n",
            "the sum is  7\n"
          ]
        }
      ]
    },
    {
      "cell_type": "code",
      "source": [
        "#Display variable type\n",
        "a=int(input(\"enter a number\"))\n",
        "print(type(a))"
      ],
      "metadata": {
        "colab": {
          "base_uri": "https://localhost:8080/"
        },
        "id": "RuZUiFk2OesY",
        "outputId": "a1b5d657-bf75-49c1-a2d6-7c748e89f4bc"
      },
      "execution_count": null,
      "outputs": [
        {
          "output_type": "stream",
          "name": "stdout",
          "text": [
            "enter a number2\n",
            "<class 'int'>\n"
          ]
        }
      ]
    },
    {
      "cell_type": "code",
      "source": [
        "#splitting the input values\n",
        "name,age=input(\"enter your name and age \").split()#splitting function\n",
        "print(f\"Name is {name} and age is {age}\")"
      ],
      "metadata": {
        "colab": {
          "base_uri": "https://localhost:8080/"
        },
        "id": "phJZB14_PO-9",
        "outputId": "43a9abda-1355-40c6-8948-e0eae03c042c"
      },
      "execution_count": null,
      "outputs": [
        {
          "output_type": "stream",
          "name": "stdout",
          "text": [
            "enter your name and age naveen 19\n",
            "Name is naveen and age is 19\n"
          ]
        }
      ]
    },
    {
      "cell_type": "code",
      "source": [
        "#Compute simple interest\n",
        "p = float(input(\"enter the principal amount \"))\n",
        "r = float(input(\"enter the rate \"))\n",
        "t = float(input(\"enter the time \"))\n",
        "print(\"simple interet is :\",(p*r*t)/100)\n"
      ],
      "metadata": {
        "colab": {
          "base_uri": "https://localhost:8080/"
        },
        "id": "o86MxeZeQcjW",
        "outputId": "3e13939d-4b5d-447c-9273-84eab4abb97f"
      },
      "execution_count": null,
      "outputs": [
        {
          "output_type": "stream",
          "name": "stdout",
          "text": [
            "enter the principal amount 15\n",
            "enter the rate 5\n",
            "enter the time 3\n",
            "simple interet is : 2.25\n"
          ]
        }
      ]
    },
    {
      "cell_type": "code",
      "source": [
        "#Calculate area of a rectangle\n",
        "l = float(input(\"enter the length \"))\n",
        "b = float(input(\"enter the breadth \"))\n",
        "print(\"area is \",l*b)"
      ],
      "metadata": {
        "colab": {
          "base_uri": "https://localhost:8080/"
        },
        "id": "6zNQLZOgSvj_",
        "outputId": "850b19cc-6f62-4a88-fe8e-9660f0429ed5"
      },
      "execution_count": null,
      "outputs": [
        {
          "output_type": "stream",
          "name": "stdout",
          "text": [
            "enter the length 4\n",
            "enter the breadth 7\n",
            "area is  28.0\n"
          ]
        }
      ]
    },
    {
      "cell_type": "code",
      "source": [
        "#Convert kilometers into miles\n",
        "km = float(input(\"enter the distance in km \"))\n",
        "print(\"Distance in miles is \",km*0.621371)"
      ],
      "metadata": {
        "colab": {
          "base_uri": "https://localhost:8080/"
        },
        "id": "OZfozVqqTFoQ",
        "outputId": "c41e9dc3-1ec9-44d3-9bb4-b85c3afc38c0"
      },
      "execution_count": null,
      "outputs": [
        {
          "output_type": "stream",
          "name": "stdout",
          "text": [
            "enter the distance in km 68\n",
            "Distance in miles is  42.253228\n"
          ]
        }
      ]
    },
    {
      "cell_type": "code",
      "source": [
        "#Display ASCII value of a character\n",
        "c = input(\"enter a character \")\n",
        "print(\"ASCII value is \",ord(c))#code for ascii"
      ],
      "metadata": {
        "colab": {
          "base_uri": "https://localhost:8080/"
        },
        "id": "JtQagjwZTQMB",
        "outputId": "fb26e155-4a7b-4a84-ebfb-675cc84367f2"
      },
      "execution_count": null,
      "outputs": [
        {
          "output_type": "stream",
          "name": "stdout",
          "text": [
            "enter a character a\n",
            "ASCII value is  97\n"
          ]
        }
      ]
    },
    {
      "cell_type": "code",
      "source": [
        "#Check whether the number is odd or even\n",
        "a=int(input(\"enter a number \"))\n",
        "if a%2 == 0:\n",
        "  print(\"the number is even\")\n",
        "else:\n",
        "  print(\"the number is odd\")"
      ],
      "metadata": {
        "colab": {
          "base_uri": "https://localhost:8080/"
        },
        "id": "uP2O6w9LU_Up",
        "outputId": "8fc0acc2-c288-492f-bf1c-af2a75f87331"
      },
      "execution_count": null,
      "outputs": [
        {
          "output_type": "stream",
          "name": "stdout",
          "text": [
            "enter a number 8\n",
            "the number is even\n"
          ]
        }
      ]
    },
    {
      "cell_type": "code",
      "source": [
        "#Check whether the year is leap year\n",
        "y = int(input(\"enter a year \"))\n",
        "if (y%400== 0) or (y%4 == 0 and y%100 !=0):#or just (y%4==0)\n",
        "  print(\"the year is a leap year\")\n",
        "else:\n",
        "  print(\"the year is not a leap year\")"
      ],
      "metadata": {
        "colab": {
          "base_uri": "https://localhost:8080/"
        },
        "id": "dY5UC2_ucQ8k",
        "outputId": "0d875cd8-df25-48dc-e0ff-58ff769814eb"
      },
      "execution_count": null,
      "outputs": [
        {
          "output_type": "stream",
          "name": "stdout",
          "text": [
            "enter a year 2028\n",
            "the year is a leap year\n"
          ]
        }
      ]
    },
    {
      "cell_type": "code",
      "source": [
        "#print the multiplication table\n",
        "n = int(input(\"enter the number \"))\n",
        "for i in range(1,11,2):#(start,maximum,increment)\n",
        "  print(f\"{n}*{i} = {n*i}\")"
      ],
      "metadata": {
        "colab": {
          "base_uri": "https://localhost:8080/"
        },
        "id": "fhveEHNOfcpP",
        "outputId": "9920f574-3c8a-4fa8-fa4b-e7bc919f468b"
      },
      "execution_count": null,
      "outputs": [
        {
          "output_type": "stream",
          "name": "stdout",
          "text": [
            "enter the number 7\n",
            "7*1 = 7\n",
            "7*3 = 21\n",
            "7*5 = 35\n",
            "7*7 = 49\n",
            "7*9 = 63\n"
          ]
        }
      ]
    },
    {
      "cell_type": "code",
      "source": [
        "#sum of n ntural numbers\n",
        "n=int(input(\"enter the number \"))\n",
        "sum=0\n",
        "#for i in range(n,0,-1) backwards\n",
        "for i in range(1,n+1):\n",
        "  sum+=i\n",
        "print(\"sum is \",sum)\n"
      ],
      "metadata": {
        "colab": {
          "base_uri": "https://localhost:8080/"
        },
        "id": "O7UXcJvmioWk",
        "outputId": "f9898754-d5d5-42fa-9f6f-093b6aca4d53"
      },
      "execution_count": null,
      "outputs": [
        {
          "output_type": "stream",
          "name": "stdout",
          "text": [
            "enter the number 3\n",
            "sum is  6\n"
          ]
        }
      ]
    },
    {
      "cell_type": "code",
      "source": [
        "#factorial of a number\n",
        "n=int(input(\"enter the number\"))\n",
        "fact = 1\n",
        "for i in range(1,n+1):\n",
        "  fact*=i\n",
        "print(f\"the factorial of the number is \",fact)#print(f =for displaying another variable)"
      ],
      "metadata": {
        "colab": {
          "base_uri": "https://localhost:8080/"
        },
        "id": "EcoKIWEijn-s",
        "outputId": "3627bfb6-d326-4362-d49c-ce425d40a4a8"
      },
      "execution_count": null,
      "outputs": [
        {
          "output_type": "stream",
          "name": "stdout",
          "text": [
            "enter the number5\n",
            "the factorial of the number is  120\n"
          ]
        }
      ]
    },
    {
      "cell_type": "code",
      "source": [
        "#prime number\n",
        "n = int(input(\"enter the number \"))\n",
        "for i in range(2,n):\n",
        "  if n%i == 0:\n",
        "    print(\"not a prime number\")\n",
        "    break\n",
        "else:\n",
        "  print(\"prime number\")"
      ],
      "metadata": {
        "colab": {
          "base_uri": "https://localhost:8080/"
        },
        "id": "3ol7JALZkWJc",
        "outputId": "65b14af8-6bd3-486b-a88e-2df3df850974"
      },
      "execution_count": null,
      "outputs": [
        {
          "output_type": "stream",
          "name": "stdout",
          "text": [
            "enter the number 11\n",
            "prime number\n"
          ]
        }
      ]
    },
    {
      "cell_type": "code",
      "source": [
        "#check whether a number is palindrome or not\n",
        "n=input(\"enter a string \")\n",
        "r_n = n[::-1]\n",
        "if r_n==n:\n",
        "  print(\"the number is a palindrome\")\n",
        "else:\n",
        "  print(\"the number is not a palindrome\")\n"
      ],
      "metadata": {
        "colab": {
          "base_uri": "https://localhost:8080/"
        },
        "id": "OagLG6MHk0JM",
        "outputId": "014ffca0-bacd-47e1-a401-d21e5c39d80c"
      },
      "execution_count": null,
      "outputs": [
        {
          "output_type": "stream",
          "name": "stdout",
          "text": [
            "enter a stringmalayalam\n",
            "the number is a palindrome\n"
          ]
        }
      ]
    },
    {
      "cell_type": "code",
      "source": [
        "#pattern\n",
        "r=int(input(\"enter the number of rows \"))\n",
        "for i in range(0,r):\n",
        "  for j in range(0,r-i-1):\n",
        "    print(\" \",end=\"\")\n",
        "  for j in range(0,i+1):\n",
        "    print(\"* \",end=\"\")\n",
        "  print()\n"
      ],
      "metadata": {
        "colab": {
          "base_uri": "https://localhost:8080/"
        },
        "id": "TBiWQp-pprSl",
        "outputId": "9053af2a-8301-4c57-c29d-f65473a56288"
      },
      "execution_count": null,
      "outputs": [
        {
          "output_type": "stream",
          "name": "stdout",
          "text": [
            "enter the number of rows 5\n",
            "    * \n",
            "   * * \n",
            "  * * * \n",
            " * * * * \n",
            "* * * * * \n"
          ]
        }
      ]
    },
    {
      "cell_type": "code",
      "source": [
        "#reverse a number\n",
        "num=int(input(\"enter the number\"))\n",
        "rev=0\n",
        "while num!=0:\n",
        "  rem=num%10\n",
        "  rev=rev*10+rem\n",
        "  num=num//10\n",
        "print(rev)"
      ],
      "metadata": {
        "colab": {
          "base_uri": "https://localhost:8080/"
        },
        "id": "C0f0XmKFrQfZ",
        "outputId": "d7279cab-b2f8-46ce-f0f5-d9f046b9922a"
      },
      "execution_count": null,
      "outputs": [
        {
          "output_type": "stream",
          "name": "stdout",
          "text": [
            "enter the number456\n",
            "654\n"
          ]
        }
      ]
    },
    {
      "cell_type": "code",
      "source": [
        "#count the number of digits\n",
        "n=int(input(\"enter the number\"))\n",
        "c=0\n",
        "while n>0 :\n",
        "  c+=1\n",
        "  n//=10\n",
        "print(\"the number is \",c)\n"
      ],
      "metadata": {
        "colab": {
          "base_uri": "https://localhost:8080/"
        },
        "id": "oXPRG-RnsG6e",
        "outputId": "bcdd7b2d-57e2-4170-a8c6-df107e0d0188"
      },
      "execution_count": null,
      "outputs": [
        {
          "output_type": "stream",
          "name": "stdout",
          "text": [
            "enter the number456\n",
            "the number is  3\n"
          ]
        }
      ]
    },
    {
      "cell_type": "code",
      "source": [
        "#fibonacci\n",
        "n=int(input(\"enter the number\"))\n",
        "a=0\n",
        "b=1\n",
        "count=0\n",
        "while count < n:\n",
        "  if count <=1:\n",
        "    m=count\n",
        "  else:\n",
        "    m=a+b\n",
        "    a=b\n",
        "    b=m\n",
        "  print(m, end=\" \")\n",
        "  count +=1"
      ],
      "metadata": {
        "colab": {
          "base_uri": "https://localhost:8080/"
        },
        "id": "s4_kDzfku5jj",
        "outputId": "f424bcb5-03c4-4c9b-eb0a-f4dc8eb8b96e"
      },
      "execution_count": null,
      "outputs": [
        {
          "output_type": "stream",
          "name": "stdout",
          "text": [
            "enter the number5\n",
            "0 1 1 2 3 "
          ]
        }
      ]
    },
    {
      "cell_type": "code",
      "source": [
        "#sum of digits\n",
        "n=int(input(\"enter the number \"))\n",
        "sum=0\n",
        "while n>0:\n",
        "  rem=n%10\n",
        "  sum+=rem\n",
        "  n//=10\n",
        "print(\"the sum of the digits is \",sum)"
      ],
      "metadata": {
        "colab": {
          "base_uri": "https://localhost:8080/"
        },
        "id": "_GOIaAGbwWIs",
        "outputId": "2a2804b8-e2e9-4921-88a9-1bc9f63eef09"
      },
      "execution_count": null,
      "outputs": [
        {
          "output_type": "stream",
          "name": "stdout",
          "text": [
            "enter the number34\n",
            "the sum of the digits is  7\n"
          ]
        }
      ]
    },
    {
      "cell_type": "code",
      "source": [
        "\n",
        "a = input(\"enter a string \")\n",
        "print(f\"the length of the string is \",len(a))\n",
        "vowels=\"aeiouAEIOU\"\n",
        "v,c=0,0\n",
        "for ch in a:\n",
        "  if ch.isalpha():\n",
        "    if ch in vowels:\n",
        "      v+=1\n",
        "    else:\n",
        "      c+=1\n",
        "print(f\"vowels are {v} and consonants are {c}\")\n"
      ],
      "metadata": {
        "id": "MRTLqBDBwySO",
        "colab": {
          "base_uri": "https://localhost:8080/"
        },
        "outputId": "64b91177-d2cc-4d28-eb0e-e0937ef4d2cd"
      },
      "execution_count": null,
      "outputs": [
        {
          "output_type": "stream",
          "name": "stdout",
          "text": [
            "enter a string hgfjsde\n",
            "the length of the string is  7\n",
            "vowels are 1 and consonants are 6\n"
          ]
        }
      ]
    },
    {
      "cell_type": "code",
      "source": [
        "#merge two lists\n",
        "list1 = [1,2,3]\n",
        "list2 = [4,5,6,3]\n",
        "print(\"Merged list\",list1+list2)\n",
        "print(\"LIST\",set(list1+list2))#set function will not display the duplicate values"
      ],
      "metadata": {
        "colab": {
          "base_uri": "https://localhost:8080/"
        },
        "id": "7Lgyzmw5TmAE",
        "outputId": "b832f10a-e192-46bc-f580-4ac9c5cd05cf"
      },
      "execution_count": null,
      "outputs": [
        {
          "output_type": "stream",
          "name": "stdout",
          "text": [
            "Merged list [1, 2, 3, 4, 5, 6, 3]\n",
            "LIST {1, 2, 3, 4, 5, 6}\n"
          ]
        }
      ]
    },
    {
      "cell_type": "code",
      "source": [
        "#finding the maximum and minimum\n",
        "list=[1,2,3,4,5,6,7,8,9,10]\n",
        "print(\"Max\",max(list))\n",
        "print(\"Min\",min(list))"
      ],
      "metadata": {
        "colab": {
          "base_uri": "https://localhost:8080/"
        },
        "id": "NmIUox4uWhPr",
        "outputId": "2a16f4de-85fb-461b-a2f9-6ce78d561696"
      },
      "execution_count": null,
      "outputs": [
        {
          "output_type": "stream",
          "name": "stdout",
          "text": [
            "Max 10\n",
            "Min 1\n"
          ]
        }
      ]
    },
    {
      "cell_type": "code",
      "source": [
        "#sum of list\n",
        "list=[2,4,5,6]\n",
        "print(\"Sum\",sum(list))"
      ],
      "metadata": {
        "colab": {
          "base_uri": "https://localhost:8080/"
        },
        "id": "nLQnyhSEWxor",
        "outputId": "3cad4175-477c-428b-de5f-b40b9d0664a5"
      },
      "execution_count": null,
      "outputs": [
        {
          "output_type": "stream",
          "name": "stdout",
          "text": [
            "Sum 17\n"
          ]
        }
      ]
    },
    {
      "cell_type": "code",
      "source": [
        "#index\n",
        "list=[\"a,b,c,d,e,f,g,h\"]\n",
        "element=input(\"enter the element to be selected \")\n",
        "if element in list:\n",
        "  print(\"index\",list.index(element))\n",
        "else:\n",
        "  print(\"Not found\")"
      ],
      "metadata": {
        "colab": {
          "base_uri": "https://localhost:8080/"
        },
        "id": "HxIiBQzXYzWb",
        "outputId": "96a364ce-3ab3-48a6-ed66-351294a5b1f7"
      },
      "execution_count": null,
      "outputs": [
        {
          "output_type": "stream",
          "name": "stdout",
          "text": [
            "enter the element to be selected i\n",
            "Not found\n"
          ]
        }
      ]
    },
    {
      "cell_type": "code",
      "source": [
        "#sorting the list\n",
        "list=[2,4,6,9,5,8]\n",
        "list.sort()\n",
        "print(\"Sorted lis is \",list)"
      ],
      "metadata": {
        "colab": {
          "base_uri": "https://localhost:8080/"
        },
        "id": "prmXJWCjZzII",
        "outputId": "18544982-1112-417f-ba3a-21d26f6d3980"
      },
      "execution_count": null,
      "outputs": [
        {
          "output_type": "stream",
          "name": "stdout",
          "text": [
            "Sorted lis is  [2, 4, 5, 6, 8, 9]\n"
          ]
        }
      ]
    },
    {
      "cell_type": "code",
      "source": [
        "#check whether the string is anagram or not\n",
        "string1=input(\"enter a string \")\n",
        "string2=input(\"enter a string \")\n",
        "if sorted(string1)==sorted(string2):\n",
        "  print(\"Anagram\")\n",
        "else:\n",
        "  print(\"Not Anagram\")\n"
      ],
      "metadata": {
        "colab": {
          "base_uri": "https://localhost:8080/"
        },
        "id": "2mKauc31adJ8",
        "outputId": "9621d8a8-cc4f-4f09-a5c4-076d6c651ec7"
      },
      "execution_count": null,
      "outputs": [
        {
          "output_type": "stream",
          "name": "stdout",
          "text": [
            "enter a string adc\n",
            "enter a string cda\n",
            "Anagram\n"
          ]
        }
      ]
    },
    {
      "cell_type": "code",
      "source": [
        "#find the second largest number from the list\n",
        "list=[1,6,5,8,9]\n",
        "list.sort()\n",
        "print(\"Second largest number is \",list[-2])"
      ],
      "metadata": {
        "colab": {
          "base_uri": "https://localhost:8080/"
        },
        "id": "tMzqA04nc1Xi",
        "outputId": "cdfc1ecf-2420-4cc8-85f5-8bb5672b13bb"
      },
      "execution_count": null,
      "outputs": [
        {
          "output_type": "stream",
          "name": "stdout",
          "text": [
            "Second largest number is  8\n"
          ]
        }
      ]
    },
    {
      "cell_type": "code",
      "source": [
        "#remove a specific element from a list\n",
        "list=[1,3,4,5,6]\n",
        "list.remove(5)\n",
        "print(list)"
      ],
      "metadata": {
        "colab": {
          "base_uri": "https://localhost:8080/"
        },
        "id": "eXd47TWKdkAJ",
        "outputId": "b3e9334d-3ede-453d-afd8-756411a10cab"
      },
      "execution_count": null,
      "outputs": [
        {
          "output_type": "stream",
          "name": "stdout",
          "text": [
            "[1, 3, 4, 6]\n"
          ]
        }
      ]
    },
    {
      "cell_type": "code",
      "source": [
        "t=(1,2,3,4)\n",
        "print(t[1],t[2])\n",
        "a,b,c,d=t\n",
        "print(a,b,c,d)"
      ],
      "metadata": {
        "id": "259f7ZMkf9xw",
        "colab": {
          "base_uri": "https://localhost:8080/"
        },
        "outputId": "d77e12aa-8772-4275-9953-fd437614f8bd"
      },
      "execution_count": 24,
      "outputs": [
        {
          "output_type": "stream",
          "name": "stdout",
          "text": [
            "2 3\n",
            "1 2 3 4\n"
          ]
        }
      ]
    },
    {
      "cell_type": "code",
      "source": [
        "#convert list into set\n",
        "list=[1,2,3,4]\n",
        "print(set(list))"
      ],
      "metadata": {
        "colab": {
          "base_uri": "https://localhost:8080/"
        },
        "id": "8teVrEnupFd0",
        "outputId": "3239220b-29b0-4d49-af7e-dd0d59b0d27b"
      },
      "execution_count": 25,
      "outputs": [
        {
          "output_type": "stream",
          "name": "stdout",
          "text": [
            "{1, 2, 3, 4}\n"
          ]
        }
      ]
    },
    {
      "cell_type": "code",
      "source": [
        "#union and intersection\n",
        "list1=(1,2,3,4,)\n",
        "list2=(6,4,5,2,3)\n",
        "#convert into set\n",
        "list1=set(list1)\n",
        "list2=set(list2)\n",
        "#subset\n",
        "print(\"Subset\",list1.issubset(list2))\n",
        "#superset\n",
        "print(\"Superset\",list1.issuperset(list2))\n",
        "union=list1 | list2\n",
        "print(\"Union\",union)\n",
        "print(\"intersection\",list1 & list2)"
      ],
      "metadata": {
        "colab": {
          "base_uri": "https://localhost:8080/"
        },
        "id": "5WX_irkjpjZW",
        "outputId": "4f60b6f8-b34e-42f0-ccb7-b67bfd98e54a"
      },
      "execution_count": 33,
      "outputs": [
        {
          "output_type": "stream",
          "name": "stdout",
          "text": [
            "Subset False\n",
            "Superset False\n",
            "Union {1, 2, 3, 4, 5, 6}\n",
            "intersection {2, 3, 4}\n"
          ]
        }
      ]
    },
    {
      "cell_type": "code",
      "source": [
        "#creating a dictonary\n",
        "dic={\"a\":1,\"b\":2}\n",
        "for key,values in dic.items():\n",
        "  print(key,values)\n"
      ],
      "metadata": {
        "colab": {
          "base_uri": "https://localhost:8080/"
        },
        "id": "D7bmgs1ErwPR",
        "outputId": "7131c204-1c91-40a3-82a2-88036ffbb55e"
      },
      "execution_count": 40,
      "outputs": [
        {
          "output_type": "stream",
          "name": "stdout",
          "text": [
            "a 1\n",
            "b 2\n"
          ]
        }
      ]
    },
    {
      "cell_type": "code",
      "source": [
        "#counting character frequency in string\n",
        "string=input(\"Enter a string \")\n",
        "freq={}\n",
        "for ch in string:\n",
        "  freq[ch]=freq.get(ch,0)+1\n",
        "print(freq)"
      ],
      "metadata": {
        "colab": {
          "base_uri": "https://localhost:8080/"
        },
        "id": "e6y9uVT9t4ka",
        "outputId": "20dfdfdd-279f-44a1-f439-79423ff2b817"
      },
      "execution_count": 43,
      "outputs": [
        {
          "output_type": "stream",
          "name": "stdout",
          "text": [
            "Enter a string naveen\n",
            "{'n': 2, 'a': 1, 'v': 1, 'e': 2}\n"
          ]
        }
      ]
    },
    {
      "cell_type": "code",
      "source": [],
      "metadata": {
        "id": "sr9ICHLkyTJw"
      },
      "execution_count": null,
      "outputs": []
    }
  ]
}