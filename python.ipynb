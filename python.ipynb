{
  "cells": [
    {
      "cell_type": "markdown",
      "metadata": {
        "id": "view-in-github",
        "colab_type": "text"
      },
      "source": [
        "<a href=\"https://colab.research.google.com/github/irinemb/ASIET/blob/main/python.ipynb\" target=\"_parent\"><img src=\"https://colab.research.google.com/assets/colab-badge.svg\" alt=\"Open In Colab\"/></a>"
      ]
    },
    {
      "cell_type": "code",
      "execution_count": 1,
      "metadata": {
        "colab": {
          "base_uri": "https://localhost:8080/"
        },
        "id": "GOxtJAdWF5Y3",
        "outputId": "4be3bf1e-39e0-4d2d-a13b-6a958dea55e2"
      },
      "outputs": [
        {
          "output_type": "stream",
          "name": "stdout",
          "text": [
            "hyy\n"
          ]
        }
      ],
      "source": [
        "print(\"hyy\")"
      ]
    },
    {
      "cell_type": "code",
      "execution_count": null,
      "metadata": {
        "colab": {
          "base_uri": "https://localhost:8080/"
        },
        "id": "yxUSZ3EIGgh1",
        "outputId": "1c0ef061-e76e-4cba-abf1-401999d6f88d"
      },
      "outputs": [
        {
          "name": "stdout",
          "output_type": "stream",
          "text": [
            "Enter your name irine\n",
            "enter your age 20\n"
          ]
        }
      ],
      "source": [
        "#name and age\n",
        "a=input(\"Enter your name \")\n",
        "b=int(input(\"enter your age \"))\n"
      ]
    },
    {
      "cell_type": "code",
      "execution_count": null,
      "metadata": {
        "colab": {
          "base_uri": "https://localhost:8080/"
        },
        "id": "DzfMhN3VHgAU",
        "outputId": "fe09aef2-9065-4b6a-9f42-952fc4485ed1"
      },
      "outputs": [
        {
          "name": "stdout",
          "output_type": "stream",
          "text": [
            "enter a number2\n",
            "Enter a number10\n",
            "a:10 \n",
            "b:2\n"
          ]
        }
      ],
      "source": [
        "#swapping\n",
        "a=int(input(\"enter a number\"))\n",
        "b=int(input(\"Enter a number\"))\n",
        "a,b=b,a\n",
        "print(f\"a:{a} \\nb:{b}\")"
      ]
    },
    {
      "cell_type": "code",
      "execution_count": null,
      "metadata": {
        "colab": {
          "base_uri": "https://localhost:8080/"
        },
        "id": "RFFZRamXJWZs",
        "outputId": "48039862-1a2d-4327-966a-eb11a4a1bbfe"
      },
      "outputs": [
        {
          "name": "stdout",
          "output_type": "stream",
          "text": [
            "enter a number 29\n",
            "String value is 29\n"
          ]
        }
      ],
      "source": [
        "num=int(input(\"enter a number \"))\n",
        "print(f\"String value is {str(num)}\")"
      ]
    },
    {
      "cell_type": "code",
      "execution_count": null,
      "metadata": {
        "colab": {
          "base_uri": "https://localhost:8080/"
        },
        "id": "qqpJ0mBvKZGT",
        "outputId": "b6c95979-ded5-49ff-8d56-87ab857dfd15"
      },
      "outputs": [
        {
          "name": "stdout",
          "output_type": "stream",
          "text": [
            "enter the radius10\n",
            "Area of the circle is : 314.0\n"
          ]
        }
      ],
      "source": [
        "#area of the circle\n",
        "r=float(input(\"enter the radius\"))\n",
        "print(\"Area of the circle is :\",3.14*r*r)"
      ]
    },
    {
      "cell_type": "code",
      "execution_count": null,
      "metadata": {
        "colab": {
          "base_uri": "https://localhost:8080/"
        },
        "id": "FDIHuOKCMQHA",
        "outputId": "139db3e1-6f8a-4e66-fc78-8c8efaaf48e2"
      },
      "outputs": [
        {
          "name": "stdout",
          "output_type": "stream",
          "text": [
            "enter the temperature in celsius :100\n",
            "farenheit is  212.0\n"
          ]
        }
      ],
      "source": [
        "#convert celsius to farenheit\n",
        "c = float(input(\"enter the temperature in celsius :\"))\n",
        "print(\"farenheit is \",(c*9/5)+32)"
      ]
    },
    {
      "cell_type": "code",
      "execution_count": null,
      "metadata": {
        "colab": {
          "base_uri": "https://localhost:8080/"
        },
        "id": "pCNSUt6MNIGI",
        "outputId": "e3e69032-89ee-467c-ace0-f7b2d8cd3d40"
      },
      "outputs": [
        {
          "name": "stdout",
          "output_type": "stream",
          "text": [
            "enter a number 2\n",
            "enter a number 5\n",
            "the sum is  7\n"
          ]
        }
      ],
      "source": [
        "#sum of 2 numbers\n",
        "a=int(input(\"enter a number \"))\n",
        "b=int(input(\"enter a number \"))\n",
        "print(\"the sum is \",a+b)"
      ]
    },
    {
      "cell_type": "code",
      "execution_count": null,
      "metadata": {
        "colab": {
          "base_uri": "https://localhost:8080/"
        },
        "id": "RuZUiFk2OesY",
        "outputId": "a1b5d657-bf75-49c1-a2d6-7c748e89f4bc"
      },
      "outputs": [
        {
          "name": "stdout",
          "output_type": "stream",
          "text": [
            "enter a number2\n",
            "<class 'int'>\n"
          ]
        }
      ],
      "source": [
        "#Display variable type\n",
        "a=int(input(\"enter a number\"))\n",
        "print(type(a))"
      ]
    },
    {
      "cell_type": "code",
      "execution_count": null,
      "metadata": {
        "colab": {
          "base_uri": "https://localhost:8080/"
        },
        "id": "phJZB14_PO-9",
        "outputId": "43a9abda-1355-40c6-8948-e0eae03c042c"
      },
      "outputs": [
        {
          "name": "stdout",
          "output_type": "stream",
          "text": [
            "enter your name and age naveen 19\n",
            "Name is naveen and age is 19\n"
          ]
        }
      ],
      "source": [
        "#splitting the input values\n",
        "name,age=input(\"enter your name and age \").split()#splitting function\n",
        "print(f\"Name is {name} and age is {age}\")"
      ]
    },
    {
      "cell_type": "code",
      "execution_count": null,
      "metadata": {
        "colab": {
          "base_uri": "https://localhost:8080/"
        },
        "id": "o86MxeZeQcjW",
        "outputId": "3e13939d-4b5d-447c-9273-84eab4abb97f"
      },
      "outputs": [
        {
          "name": "stdout",
          "output_type": "stream",
          "text": [
            "enter the principal amount 15\n",
            "enter the rate 5\n",
            "enter the time 3\n",
            "simple interet is : 2.25\n"
          ]
        }
      ],
      "source": [
        "#Compute simple interest\n",
        "p = float(input(\"enter the principal amount \"))\n",
        "r = float(input(\"enter the rate \"))\n",
        "t = float(input(\"enter the time \"))\n",
        "print(\"simple interet is :\",(p*r*t)/100)\n"
      ]
    },
    {
      "cell_type": "code",
      "execution_count": null,
      "metadata": {
        "colab": {
          "base_uri": "https://localhost:8080/"
        },
        "id": "6zNQLZOgSvj_",
        "outputId": "850b19cc-6f62-4a88-fe8e-9660f0429ed5"
      },
      "outputs": [
        {
          "name": "stdout",
          "output_type": "stream",
          "text": [
            "enter the length 4\n",
            "enter the breadth 7\n",
            "area is  28.0\n"
          ]
        }
      ],
      "source": [
        "#Calculate area of a rectangle\n",
        "l = float(input(\"enter the length \"))\n",
        "b = float(input(\"enter the breadth \"))\n",
        "print(\"area is \",l*b)"
      ]
    },
    {
      "cell_type": "code",
      "execution_count": null,
      "metadata": {
        "colab": {
          "base_uri": "https://localhost:8080/"
        },
        "id": "OZfozVqqTFoQ",
        "outputId": "c41e9dc3-1ec9-44d3-9bb4-b85c3afc38c0"
      },
      "outputs": [
        {
          "name": "stdout",
          "output_type": "stream",
          "text": [
            "enter the distance in km 68\n",
            "Distance in miles is  42.253228\n"
          ]
        }
      ],
      "source": [
        "#Convert kilometers into miles\n",
        "km = float(input(\"enter the distance in km \"))\n",
        "print(\"Distance in miles is \",km*0.621371)"
      ]
    },
    {
      "cell_type": "code",
      "execution_count": null,
      "metadata": {
        "colab": {
          "base_uri": "https://localhost:8080/"
        },
        "id": "JtQagjwZTQMB",
        "outputId": "fb26e155-4a7b-4a84-ebfb-675cc84367f2"
      },
      "outputs": [
        {
          "name": "stdout",
          "output_type": "stream",
          "text": [
            "enter a character a\n",
            "ASCII value is  97\n"
          ]
        }
      ],
      "source": [
        "#Display ASCII value of a character\n",
        "c = input(\"enter a character \")\n",
        "print(\"ASCII value is \",ord(c))#code for ascii"
      ]
    },
    {
      "cell_type": "code",
      "execution_count": null,
      "metadata": {
        "colab": {
          "base_uri": "https://localhost:8080/"
        },
        "id": "uP2O6w9LU_Up",
        "outputId": "8fc0acc2-c288-492f-bf1c-af2a75f87331"
      },
      "outputs": [
        {
          "name": "stdout",
          "output_type": "stream",
          "text": [
            "enter a number 8\n",
            "the number is even\n"
          ]
        }
      ],
      "source": [
        "#Check whether the number is odd or even\n",
        "a=int(input(\"enter a number \"))\n",
        "if a%2 == 0:\n",
        "  print(\"the number is even\")\n",
        "else:\n",
        "  print(\"the number is odd\")"
      ]
    },
    {
      "cell_type": "code",
      "execution_count": null,
      "metadata": {
        "colab": {
          "base_uri": "https://localhost:8080/"
        },
        "id": "dY5UC2_ucQ8k",
        "outputId": "0d875cd8-df25-48dc-e0ff-58ff769814eb"
      },
      "outputs": [
        {
          "name": "stdout",
          "output_type": "stream",
          "text": [
            "enter a year 2028\n",
            "the year is a leap year\n"
          ]
        }
      ],
      "source": [
        "#Check whether the year is leap year\n",
        "y = int(input(\"enter a year \"))\n",
        "if (y%400== 0) or (y%4 == 0 and y%100 !=0):#or just (y%4==0)\n",
        "  print(\"the year is a leap year\")\n",
        "else:\n",
        "  print(\"the year is not a leap year\")"
      ]
    },
    {
      "cell_type": "code",
      "execution_count": null,
      "metadata": {
        "colab": {
          "base_uri": "https://localhost:8080/"
        },
        "id": "fhveEHNOfcpP",
        "outputId": "9920f574-3c8a-4fa8-fa4b-e7bc919f468b"
      },
      "outputs": [
        {
          "name": "stdout",
          "output_type": "stream",
          "text": [
            "enter the number 7\n",
            "7*1 = 7\n",
            "7*3 = 21\n",
            "7*5 = 35\n",
            "7*7 = 49\n",
            "7*9 = 63\n"
          ]
        }
      ],
      "source": [
        "#print the multiplication table\n",
        "n = int(input(\"enter the number \"))\n",
        "for i in range(1,11,2):#(start,maximum,increment)\n",
        "  print(f\"{n}*{i} = {n*i}\")"
      ]
    },
    {
      "cell_type": "code",
      "execution_count": null,
      "metadata": {
        "colab": {
          "base_uri": "https://localhost:8080/"
        },
        "id": "O7UXcJvmioWk",
        "outputId": "f9898754-d5d5-42fa-9f6f-093b6aca4d53"
      },
      "outputs": [
        {
          "name": "stdout",
          "output_type": "stream",
          "text": [
            "enter the number 3\n",
            "sum is  6\n"
          ]
        }
      ],
      "source": [
        "#sum of n ntural numbers\n",
        "n=int(input(\"enter the number \"))\n",
        "sum=0\n",
        "#for i in range(n,0,-1) backwards\n",
        "for i in range(1,n+1):\n",
        "  sum+=i\n",
        "print(\"sum is \",sum)\n"
      ]
    },
    {
      "cell_type": "code",
      "execution_count": null,
      "metadata": {
        "colab": {
          "base_uri": "https://localhost:8080/"
        },
        "id": "EcoKIWEijn-s",
        "outputId": "3627bfb6-d326-4362-d49c-ce425d40a4a8"
      },
      "outputs": [
        {
          "name": "stdout",
          "output_type": "stream",
          "text": [
            "enter the number5\n",
            "the factorial of the number is  120\n"
          ]
        }
      ],
      "source": [
        "#factorial of a number\n",
        "n=int(input(\"enter the number\"))\n",
        "fact = 1\n",
        "for i in range(1,n+1):\n",
        "  fact*=i\n",
        "print(f\"the factorial of the number is \",fact)#print(f =for displaying another variable)"
      ]
    },
    {
      "cell_type": "code",
      "execution_count": null,
      "metadata": {
        "colab": {
          "base_uri": "https://localhost:8080/"
        },
        "id": "3ol7JALZkWJc",
        "outputId": "65b14af8-6bd3-486b-a88e-2df3df850974"
      },
      "outputs": [
        {
          "name": "stdout",
          "output_type": "stream",
          "text": [
            "enter the number 11\n",
            "prime number\n"
          ]
        }
      ],
      "source": [
        "#prime number\n",
        "n = int(input(\"enter the number \"))\n",
        "for i in range(2,n):\n",
        "  if n%i == 0:\n",
        "    print(\"not a prime number\")\n",
        "    break\n",
        "else:\n",
        "  print(\"prime number\")"
      ]
    },
    {
      "cell_type": "code",
      "execution_count": null,
      "metadata": {
        "colab": {
          "base_uri": "https://localhost:8080/"
        },
        "id": "OagLG6MHk0JM",
        "outputId": "014ffca0-bacd-47e1-a401-d21e5c39d80c"
      },
      "outputs": [
        {
          "name": "stdout",
          "output_type": "stream",
          "text": [
            "enter a stringmalayalam\n",
            "the number is a palindrome\n"
          ]
        }
      ],
      "source": [
        "#check whether a number is palindrome or not\n",
        "n=input(\"enter a string \")\n",
        "r_n = n[::-1]\n",
        "if r_n==n:\n",
        "  print(\"the number is a palindrome\")\n",
        "else:\n",
        "  print(\"the number is not a palindrome\")\n"
      ]
    },
    {
      "cell_type": "code",
      "execution_count": null,
      "metadata": {
        "colab": {
          "base_uri": "https://localhost:8080/"
        },
        "id": "TBiWQp-pprSl",
        "outputId": "9053af2a-8301-4c57-c29d-f65473a56288"
      },
      "outputs": [
        {
          "name": "stdout",
          "output_type": "stream",
          "text": [
            "enter the number of rows 5\n",
            "    * \n",
            "   * * \n",
            "  * * * \n",
            " * * * * \n",
            "* * * * * \n"
          ]
        }
      ],
      "source": [
        "#pattern\n",
        "r=int(input(\"enter the number of rows \"))\n",
        "for i in range(0,r):\n",
        "  for j in range(0,r-i-1):\n",
        "    print(\" \",end=\"\")\n",
        "  for j in range(0,i+1):\n",
        "    print(\"* \",end=\"\")\n",
        "  print()\n"
      ]
    },
    {
      "cell_type": "code",
      "execution_count": null,
      "metadata": {
        "colab": {
          "base_uri": "https://localhost:8080/"
        },
        "id": "C0f0XmKFrQfZ",
        "outputId": "d7279cab-b2f8-46ce-f0f5-d9f046b9922a"
      },
      "outputs": [
        {
          "name": "stdout",
          "output_type": "stream",
          "text": [
            "enter the number456\n",
            "654\n"
          ]
        }
      ],
      "source": [
        "#reverse a number\n",
        "num=int(input(\"enter the number\"))\n",
        "rev=0\n",
        "while num!=0:\n",
        "  rem=num%10\n",
        "  rev=rev*10+rem\n",
        "  num=num//10\n",
        "print(rev)"
      ]
    },
    {
      "cell_type": "code",
      "execution_count": null,
      "metadata": {
        "colab": {
          "base_uri": "https://localhost:8080/"
        },
        "id": "oXPRG-RnsG6e",
        "outputId": "bcdd7b2d-57e2-4170-a8c6-df107e0d0188"
      },
      "outputs": [
        {
          "name": "stdout",
          "output_type": "stream",
          "text": [
            "enter the number456\n",
            "the number is  3\n"
          ]
        }
      ],
      "source": [
        "#count the number of digits\n",
        "n=int(input(\"enter the number\"))\n",
        "c=0\n",
        "while n>0 :\n",
        "  c+=1\n",
        "  n//=10\n",
        "print(\"the number is \",c)\n"
      ]
    },
    {
      "cell_type": "code",
      "execution_count": null,
      "metadata": {
        "colab": {
          "base_uri": "https://localhost:8080/"
        },
        "id": "s4_kDzfku5jj",
        "outputId": "f424bcb5-03c4-4c9b-eb0a-f4dc8eb8b96e"
      },
      "outputs": [
        {
          "name": "stdout",
          "output_type": "stream",
          "text": [
            "enter the number5\n",
            "0 1 1 2 3 "
          ]
        }
      ],
      "source": [
        "#fibonacci\n",
        "n=int(input(\"enter the number\"))\n",
        "a=0\n",
        "b=1\n",
        "count=0\n",
        "while count < n:\n",
        "  if count <=1:\n",
        "    m=count\n",
        "  else:\n",
        "    m=a+b\n",
        "    a=b\n",
        "    b=m\n",
        "  print(m, end=\" \")\n",
        "  count +=1"
      ]
    },
    {
      "cell_type": "code",
      "execution_count": null,
      "metadata": {
        "colab": {
          "base_uri": "https://localhost:8080/"
        },
        "id": "_GOIaAGbwWIs",
        "outputId": "2a2804b8-e2e9-4921-88a9-1bc9f63eef09"
      },
      "outputs": [
        {
          "name": "stdout",
          "output_type": "stream",
          "text": [
            "enter the number34\n",
            "the sum of the digits is  7\n"
          ]
        }
      ],
      "source": [
        "#sum of digits\n",
        "n=int(input(\"enter the number \"))\n",
        "sum=0\n",
        "while n>0:\n",
        "  rem=n%10\n",
        "  sum+=rem\n",
        "  n//=10\n",
        "print(\"the sum of the digits is \",sum)"
      ]
    },
    {
      "cell_type": "code",
      "execution_count": null,
      "metadata": {
        "colab": {
          "base_uri": "https://localhost:8080/"
        },
        "id": "MRTLqBDBwySO",
        "outputId": "64b91177-d2cc-4d28-eb0e-e0937ef4d2cd"
      },
      "outputs": [
        {
          "name": "stdout",
          "output_type": "stream",
          "text": [
            "enter a string hgfjsde\n",
            "the length of the string is  7\n",
            "vowels are 1 and consonants are 6\n"
          ]
        }
      ],
      "source": [
        "\n",
        "a = input(\"enter a string \")\n",
        "print(f\"the length of the string is \",len(a))\n",
        "vowels=\"aeiouAEIOU\"\n",
        "v,c=0,0\n",
        "for ch in a:\n",
        "  if ch.isalpha():\n",
        "    if ch in vowels:\n",
        "      v+=1\n",
        "    else:\n",
        "      c+=1\n",
        "print(f\"vowels are {v} and consonants are {c}\")\n"
      ]
    },
    {
      "cell_type": "code",
      "execution_count": null,
      "metadata": {
        "colab": {
          "base_uri": "https://localhost:8080/"
        },
        "id": "7Lgyzmw5TmAE",
        "outputId": "b832f10a-e192-46bc-f580-4ac9c5cd05cf"
      },
      "outputs": [
        {
          "name": "stdout",
          "output_type": "stream",
          "text": [
            "Merged list [1, 2, 3, 4, 5, 6, 3]\n",
            "LIST {1, 2, 3, 4, 5, 6}\n"
          ]
        }
      ],
      "source": [
        "#merge two lists\n",
        "list1 = [1,2,3]\n",
        "list2 = [4,5,6,3]\n",
        "print(\"Merged list\",list1+list2)\n",
        "print(\"LIST\",set(list1+list2))#set function will not display the duplicate values"
      ]
    },
    {
      "cell_type": "code",
      "execution_count": null,
      "metadata": {
        "colab": {
          "base_uri": "https://localhost:8080/"
        },
        "id": "NmIUox4uWhPr",
        "outputId": "2a16f4de-85fb-461b-a2f9-6ce78d561696"
      },
      "outputs": [
        {
          "name": "stdout",
          "output_type": "stream",
          "text": [
            "Max 10\n",
            "Min 1\n"
          ]
        }
      ],
      "source": [
        "#finding the maximum and minimum\n",
        "list=[1,2,3,4,5,6,7,8,9,10]\n",
        "print(\"Max\",max(list))\n",
        "print(\"Min\",min(list))"
      ]
    },
    {
      "cell_type": "code",
      "execution_count": null,
      "metadata": {
        "colab": {
          "base_uri": "https://localhost:8080/"
        },
        "id": "nLQnyhSEWxor",
        "outputId": "3cad4175-477c-428b-de5f-b40b9d0664a5"
      },
      "outputs": [
        {
          "name": "stdout",
          "output_type": "stream",
          "text": [
            "Sum 17\n"
          ]
        }
      ],
      "source": [
        "#sum of list\n",
        "list=[2,4,5,6]\n",
        "print(\"Sum\",sum(list))"
      ]
    },
    {
      "cell_type": "code",
      "execution_count": null,
      "metadata": {
        "colab": {
          "base_uri": "https://localhost:8080/"
        },
        "id": "HxIiBQzXYzWb",
        "outputId": "96a364ce-3ab3-48a6-ed66-351294a5b1f7"
      },
      "outputs": [
        {
          "name": "stdout",
          "output_type": "stream",
          "text": [
            "enter the element to be selected i\n",
            "Not found\n"
          ]
        }
      ],
      "source": [
        "#index\n",
        "list=[\"a,b,c,d,e,f,g,h\"]\n",
        "element=input(\"enter the element to be selected \")\n",
        "if element in list:\n",
        "  print(\"index\",list.index(element))\n",
        "else:\n",
        "  print(\"Not found\")"
      ]
    },
    {
      "cell_type": "code",
      "execution_count": null,
      "metadata": {
        "colab": {
          "base_uri": "https://localhost:8080/"
        },
        "id": "prmXJWCjZzII",
        "outputId": "18544982-1112-417f-ba3a-21d26f6d3980"
      },
      "outputs": [
        {
          "name": "stdout",
          "output_type": "stream",
          "text": [
            "Sorted lis is  [2, 4, 5, 6, 8, 9]\n"
          ]
        }
      ],
      "source": [
        "#sorting the list\n",
        "list=[2,4,6,9,5,8]\n",
        "list.sort()\n",
        "print(\"Sorted lis is \",list)"
      ]
    },
    {
      "cell_type": "code",
      "execution_count": null,
      "metadata": {
        "colab": {
          "base_uri": "https://localhost:8080/"
        },
        "id": "2mKauc31adJ8",
        "outputId": "9621d8a8-cc4f-4f09-a5c4-076d6c651ec7"
      },
      "outputs": [
        {
          "name": "stdout",
          "output_type": "stream",
          "text": [
            "enter a string adc\n",
            "enter a string cda\n",
            "Anagram\n"
          ]
        }
      ],
      "source": [
        "#check whether the string is anagram or not\n",
        "string1=input(\"enter a string \")\n",
        "string2=input(\"enter a string \")\n",
        "if sorted(string1)==sorted(string2):\n",
        "  print(\"Anagram\")\n",
        "else:\n",
        "  print(\"Not Anagram\")\n"
      ]
    },
    {
      "cell_type": "code",
      "execution_count": null,
      "metadata": {
        "colab": {
          "base_uri": "https://localhost:8080/"
        },
        "id": "tMzqA04nc1Xi",
        "outputId": "cdfc1ecf-2420-4cc8-85f5-8bb5672b13bb"
      },
      "outputs": [
        {
          "name": "stdout",
          "output_type": "stream",
          "text": [
            "Second largest number is  8\n"
          ]
        }
      ],
      "source": [
        "#find the second largest number from the list\n",
        "list=[1,6,5,8,9]\n",
        "list.sort()\n",
        "print(\"Second largest number is \",list[-2])"
      ]
    },
    {
      "cell_type": "code",
      "execution_count": null,
      "metadata": {
        "colab": {
          "base_uri": "https://localhost:8080/"
        },
        "id": "eXd47TWKdkAJ",
        "outputId": "b3e9334d-3ede-453d-afd8-756411a10cab"
      },
      "outputs": [
        {
          "name": "stdout",
          "output_type": "stream",
          "text": [
            "[1, 3, 4, 6]\n"
          ]
        }
      ],
      "source": [
        "#remove a specific element from a list\n",
        "list=[1,3,4,5,6]\n",
        "list.remove(5)\n",
        "print(list)"
      ]
    },
    {
      "cell_type": "code",
      "execution_count": null,
      "metadata": {
        "colab": {
          "base_uri": "https://localhost:8080/"
        },
        "id": "259f7ZMkf9xw",
        "outputId": "d77e12aa-8772-4275-9953-fd437614f8bd"
      },
      "outputs": [
        {
          "name": "stdout",
          "output_type": "stream",
          "text": [
            "2 3\n",
            "1 2 3 4\n"
          ]
        }
      ],
      "source": [
        "t=(1,2,3,4)\n",
        "print(t[1],t[2])\n",
        "a,b,c,d=t\n",
        "print(a,b,c,d)"
      ]
    },
    {
      "cell_type": "code",
      "execution_count": null,
      "metadata": {
        "colab": {
          "base_uri": "https://localhost:8080/"
        },
        "id": "8teVrEnupFd0",
        "outputId": "3239220b-29b0-4d49-af7e-dd0d59b0d27b"
      },
      "outputs": [
        {
          "name": "stdout",
          "output_type": "stream",
          "text": [
            "{1, 2, 3, 4}\n"
          ]
        }
      ],
      "source": [
        "#convert list into set\n",
        "list=[1,2,3,4]\n",
        "print(set(list))"
      ]
    },
    {
      "cell_type": "code",
      "execution_count": null,
      "metadata": {
        "colab": {
          "base_uri": "https://localhost:8080/"
        },
        "id": "5WX_irkjpjZW",
        "outputId": "4f60b6f8-b34e-42f0-ccb7-b67bfd98e54a"
      },
      "outputs": [
        {
          "name": "stdout",
          "output_type": "stream",
          "text": [
            "Subset False\n",
            "Superset False\n",
            "Union {1, 2, 3, 4, 5, 6}\n",
            "intersection {2, 3, 4}\n"
          ]
        }
      ],
      "source": [
        "#union and intersection\n",
        "list1=(1,2,3,4,)\n",
        "list2=(6,4,5,2,3)\n",
        "#convert into set\n",
        "list1=set(list1)\n",
        "list2=set(list2)\n",
        "#subset\n",
        "print(\"Subset\",list1.issubset(list2))\n",
        "#superset\n",
        "print(\"Superset\",list1.issuperset(list2))\n",
        "union=list1 | list2\n",
        "print(\"Union\",union)\n",
        "print(\"intersection\",list1 & list2)"
      ]
    },
    {
      "cell_type": "code",
      "execution_count": null,
      "metadata": {
        "colab": {
          "base_uri": "https://localhost:8080/"
        },
        "id": "D7bmgs1ErwPR",
        "outputId": "7131c204-1c91-40a3-82a2-88036ffbb55e"
      },
      "outputs": [
        {
          "name": "stdout",
          "output_type": "stream",
          "text": [
            "a 1\n",
            "b 2\n"
          ]
        }
      ],
      "source": [
        "#creating a dictonary\n",
        "dic={\"a\":1,\"b\":2}\n",
        "for key,values in dic.items():\n",
        "  print(key,values)\n"
      ]
    },
    {
      "cell_type": "code",
      "execution_count": null,
      "metadata": {
        "colab": {
          "base_uri": "https://localhost:8080/"
        },
        "id": "e6y9uVT9t4ka",
        "outputId": "20dfdfdd-279f-44a1-f439-79423ff2b817"
      },
      "outputs": [
        {
          "name": "stdout",
          "output_type": "stream",
          "text": [
            "Enter a string naveen\n",
            "{'n': 2, 'a': 1, 'v': 1, 'e': 2}\n"
          ]
        }
      ],
      "source": [
        "#counting character frequency in string\n",
        "string=input(\"Enter a string \")\n",
        "freq={}\n",
        "for ch in string:\n",
        "  freq[ch]=freq.get(ch,0)+1\n",
        "print(freq)"
      ]
    },
    {
      "cell_type": "code",
      "execution_count": null,
      "metadata": {
        "colab": {
          "base_uri": "https://localhost:8080/"
        },
        "id": "sr9ICHLkyTJw",
        "outputId": "8708ab75-34ac-4f9a-cbe2-592399452b91"
      },
      "outputs": [
        {
          "name": "stdout",
          "output_type": "stream",
          "text": [
            "blaaaaa\n",
            "\n"
          ]
        }
      ],
      "source": [
        "#reading text from a file\n",
        "with open(\"hyyy.txt\",\"r\")as hehe:\n",
        "  print(hehe.read())"
      ]
    },
    {
      "cell_type": "code",
      "execution_count": null,
      "metadata": {
        "colab": {
          "base_uri": "https://localhost:8080/"
        },
        "id": "HFMi9AD01NYc",
        "outputId": "5c22b217-4658-40d5-cd6d-09de9cfe6450"
      },
      "outputs": [
        {
          "name": "stdout",
          "output_type": "stream",
          "text": [
            "2\n"
          ]
        }
      ],
      "source": [
        "#counting words in a file\n",
        "with open(\"hyyy.txt\",\"r\")as hehe:\n",
        "  words=hehe.read().split()\n",
        "  print(len(words))"
      ]
    },
    {
      "cell_type": "code",
      "execution_count": null,
      "metadata": {
        "colab": {
          "base_uri": "https://localhost:8080/"
        },
        "id": "Hw6NsRBx2B6d",
        "outputId": "a3eb0546-ee77-4fed-9e8f-4ca32dd7afa9"
      },
      "outputs": [
        {
          "name": "stdout",
          "output_type": "stream",
          "text": [
            "7\n"
          ]
        }
      ],
      "source": [
        "#counting the numbers of lines from a file\n",
        "with open(\"hyyy.txt\",\"r\")as hehe:\n",
        "  lines=hehe.readlines()\n",
        "  print(len(lines))"
      ]
    },
    {
      "cell_type": "code",
      "execution_count": null,
      "metadata": {
        "colab": {
          "base_uri": "https://localhost:8080/"
        },
        "id": "6DL99Ntn2i2U",
        "outputId": "e6ec536d-485d-455a-906b-358541ed84e8"
      },
      "outputs": [
        {
          "name": "stdout",
          "output_type": "stream",
          "text": [
            "Requirement already satisfied: ColabTurtlePlus in /usr/local/lib/python3.11/dist-packages (2.0.1)\n"
          ]
        }
      ],
      "source": [
        "!pip install ColabTurtlePlus"
      ]
    },
    {
      "cell_type": "code",
      "execution_count": 9,
      "metadata": {
        "colab": {
          "base_uri": "https://localhost:8080/",
          "height": 383
        },
        "id": "3b4xMOH72une",
        "outputId": "06f62485-eaae-4bdd-ca19-02ffb3cc2aac"
      },
      "outputs": [
        {
          "output_type": "error",
          "ename": "ModuleNotFoundError",
          "evalue": "No module named 'ColabTurtlePlus'",
          "traceback": [
            "\u001b[0;31m---------------------------------------------------------------------------\u001b[0m",
            "\u001b[0;31mModuleNotFoundError\u001b[0m                       Traceback (most recent call last)",
            "\u001b[0;32m/tmp/ipython-input-9-1208330478.py\u001b[0m in \u001b[0;36m<cell line: 0>\u001b[0;34m()\u001b[0m\n\u001b[0;32m----> 1\u001b[0;31m \u001b[0;32mfrom\u001b[0m \u001b[0mColabTurtlePlus\u001b[0m\u001b[0;34m.\u001b[0m\u001b[0mTurtle\u001b[0m \u001b[0;32mimport\u001b[0m \u001b[0;34m*\u001b[0m\u001b[0;34m\u001b[0m\u001b[0;34m\u001b[0m\u001b[0m\n\u001b[0m\u001b[1;32m      2\u001b[0m \u001b[0minitializeTurtle\u001b[0m\u001b[0;34m(\u001b[0m\u001b[0;34m)\u001b[0m\u001b[0;34m\u001b[0m\u001b[0;34m\u001b[0m\u001b[0m\n\u001b[1;32m      3\u001b[0m \u001b[0mspeed\u001b[0m\u001b[0;34m(\u001b[0m\u001b[0;36m8\u001b[0m\u001b[0;34m)\u001b[0m\u001b[0;34m\u001b[0m\u001b[0;34m\u001b[0m\u001b[0m\n\u001b[1;32m      4\u001b[0m \u001b[0mpensize\u001b[0m\u001b[0;34m(\u001b[0m\u001b[0;36m2\u001b[0m\u001b[0;34m)\u001b[0m\u001b[0;34m\u001b[0m\u001b[0;34m\u001b[0m\u001b[0m\n\u001b[1;32m      5\u001b[0m \u001b[0;32mfor\u001b[0m \u001b[0mi\u001b[0m \u001b[0;32min\u001b[0m \u001b[0mrange\u001b[0m\u001b[0;34m(\u001b[0m\u001b[0;36m47\u001b[0m\u001b[0;34m)\u001b[0m\u001b[0;34m:\u001b[0m\u001b[0;34m\u001b[0m\u001b[0;34m\u001b[0m\u001b[0m\n",
            "\u001b[0;31mModuleNotFoundError\u001b[0m: No module named 'ColabTurtlePlus'",
            "",
            "\u001b[0;31m---------------------------------------------------------------------------\u001b[0;32m\nNOTE: If your import is failing due to a missing package, you can\nmanually install dependencies using either !pip or !apt.\n\nTo view examples of installing some common dependencies, click the\n\"Open Examples\" button below.\n\u001b[0;31m---------------------------------------------------------------------------\u001b[0m\n"
          ],
          "errorDetails": {
            "actions": [
              {
                "action": "open_url",
                "actionText": "Open Examples",
                "url": "/notebooks/snippets/importing_libraries.ipynb"
              }
            ]
          }
        }
      ],
      "source": [
        "from ColabTurtlePlus.Turtle import *\n",
        "initializeTurtle()\n",
        "speed(8)\n",
        "pensize(2)\n",
        "for i in range(47):\n",
        "  # Convert the float color values to integers between 0 and 255\n",
        "  r = int(i/36 * 255)\n",
        "  g = int((1-i/36) * 255)\n",
        "  b = 0\n",
        "  pencolor(r, g, b)\n",
        "  forward(100)\n",
        "  right(175)"
      ]
    },
    {
      "cell_type": "code",
      "source": [
        "#line graph\n",
        "import matplotlib.pyplot as plt\n",
        "\n",
        "# Data\n",
        "x = [1, 2, 3, 4, 5]\n",
        "y = [10, 20, 25, 30, 35]\n",
        "\n",
        "# Create the line plot\n",
        "plt.plot(x, y, marker='o')\n",
        "\n",
        "# Add labels and title\n",
        "plt.xlabel('X-axis')\n",
        "plt.ylabel('Y-axis')\n",
        "plt.title('Simple Line Graph')\n",
        "\n",
        "# Display the plot\n",
        "plt.grid(True)\n",
        "plt.show()"
      ],
      "metadata": {
        "colab": {
          "base_uri": "https://localhost:8080/",
          "height": 472
        },
        "id": "ZeLN7mFz8Jv9",
        "outputId": "78f46905-fdbb-43fc-fe24-43a0ba08ecd8"
      },
      "execution_count": 3,
      "outputs": [
        {
          "output_type": "display_data",
          "data": {
            "text/plain": [
              "<Figure size 640x480 with 1 Axes>"
            ],
            "image/png": "[encoded data removed]"
          },
          "metadata": {}
        }
      ]
    },
    {
      "cell_type": "code",
      "source": [
        "import matplotlib.pyplot as plt\n",
        "\n",
        "# Data\n",
        "products = ['a', 'b', 'c', 'd']\n",
        "sales = [234, 768, 904, 1]\n",
        "\n",
        "# Plotting the bar chart\n",
        "plt.bar(products, sales, color='black')\n",
        "\n",
        "# Adding labels and title\n",
        "plt.xlabel('Products')\n",
        "plt.ylabel('Sales')\n",
        "plt.title('Sales of Products')\n",
        "\n",
        "# Show plot\n",
        "plt.show()\n"
      ],
      "metadata": {
        "colab": {
          "base_uri": "https://localhost:8080/",
          "height": 472
        },
        "id": "-sr7wuj4-IsN",
        "outputId": "c0413ef4-2d06-4189-e564-763e8b151fe8"
      },
      "execution_count": 6,
      "outputs": [
        {
          "output_type": "display_data",
          "data": {
            "text/plain": [
              "<Figure size 640x480 with 1 Axes>"
            ],
            "image/png": "[encoded data removed]"
          },
          "metadata": {}
        }
      ]
    },
    {
      "cell_type": "code",
      "source": [
        "import matplotlib.pyplot as plt\n",
        "\n",
        "brands = ['ferrari', 'tesla', 'tata', 'unicorn']\n",
        "share = [35, 30, 25, 10]\n",
        "\n",
        "plt.pie(share, labels=brands, autopct='%1.1f%%', startangle=140, colors=['red', 'orange', 'turquoise', 'green'])\n",
        "plt.title('Market Share of Brands')\n",
        "plt.axis('equal')  # Equal aspect ratio ensures the pie chart is circular.\n",
        "\n",
        "plt.show()\n"
      ],
      "metadata": {
        "colab": {
          "base_uri": "https://localhost:8080/",
          "height": 428
        },
        "id": "MRfNy6mNCNZd",
        "outputId": "6d6bc988-fe65-4120-fe5d-b846967eb4fd"
      },
      "execution_count": 11,
      "outputs": [
        {
          "output_type": "display_data",
          "data": {
            "text/plain": [
              "<Figure size 640x480 with 1 Axes>"
            ],
            "image/png": "[encoded data removed]"
          },
          "metadata": {}
        }
      ]
    },
    {
      "cell_type": "code",
      "source": [
        "import matplotlib.pyplot as plt\n",
        "\n",
        "marks = [40, 45, 50, 55, 60, 78, 67, 100]\n",
        "\n",
        "plt.hist(marks, bins=5, color='purple', edgecolor='black')\n",
        "plt.xlabel('Marks')\n",
        "plt.ylabel('Frequency')\n",
        "plt.title('Histogram of Marks')\n",
        "plt.show()\n"
      ],
      "metadata": {
        "colab": {
          "base_uri": "https://localhost:8080/",
          "height": 472
        },
        "id": "FB2Ct13gCjOE",
        "outputId": "e0e50589-715e-4785-b7e8-3296620ff000"
      },
      "execution_count": 8,
      "outputs": [
        {
          "output_type": "display_data",
          "data": {
            "text/plain": [
              "<Figure size 640x480 with 1 Axes>"
            ],
            "image/png": "[encoded data removed]"
          },
          "metadata": {}
        }
      ]
    }
  ],
  "metadata": {
    "colab": {
      "provenance": [],
      "authorship_tag": "ABX9TyOXDjytz2pCQUIWaL/ecndz",
      "include_colab_link": true
    },
    "kernelspec": {
      "display_name": "Python 3",
      "name": "python3"
    },
    "language_info": {
      "name": "python"
    }
  },
  "nbformat": 4,
  "nbformat_minor": 0
}